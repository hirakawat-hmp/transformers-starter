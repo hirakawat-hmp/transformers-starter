{
 "cells": [
  {
   "cell_type": "markdown",
   "id": "22b6d773-315e-4de7-a28f-869564e70c80",
   "metadata": {},
   "source": [
    "## torch + transformers で自作モデルを作る際の基礎の基礎"
   ]
  },
  {
   "cell_type": "code",
   "execution_count": 1,
   "id": "cfd8c648-7f1b-41b9-955d-3ae1854753c1",
   "metadata": {},
   "outputs": [],
   "source": [
    "import os\n",
    "os.makedirs('./storage', exist_ok=True)\n",
    "\n",
    "MODEL_NAME = 'starter-model'"
   ]
  },
  {
   "cell_type": "markdown",
   "id": "c7d99a49-4ce9-47c3-996c-7529a3ca84c7",
   "metadata": {},
   "source": [
    "#### Config の定義\n",
    "---\n",
    "* `PretrainedConfig` を継承する形で定義\n",
    "* 利点としては以下\n",
    "    * 既に定義された変数が使えたり，セーブ・ロードがお手軽にできたりする\n",
    "    * `transformers` の既存 `Config` とインターフェイスが合う"
   ]
  },
  {
   "cell_type": "code",
   "execution_count": 2,
   "id": "2fa1bde2-58eb-4d79-a447-3f6ae9e75b89",
   "metadata": {},
   "outputs": [
    {
     "name": "stderr",
     "output_type": "stream",
     "text": [
      "/Users/tomoyahirakawa/.pyenv/versions/3.11.6/envs/dnn-dev/lib/python3.11/site-packages/tqdm/auto.py:21: TqdmWarning: IProgress not found. Please update jupyter and ipywidgets. See https://ipywidgets.readthedocs.io/en/stable/user_install.html\n",
      "  from .autonotebook import tqdm as notebook_tqdm\n"
     ]
    }
   ],
   "source": [
    "from transformers import PretrainedConfig\n",
    "class Config(PretrainedConfig):\n",
    "    def __init__(\n",
    "        self,\n",
    "        ## __init__ 関数では必ずデフォルト引数を設定すること\n",
    "        input_size: int = 5,\n",
    "        hidden_size: int = 3,\n",
    "        output_size: int = 1,\n",
    "        ## 継承元のPretrainedConfig クラスで既に実装されているパラメータはここで指定\n",
    "        ## 親クラスのコンストラクタ super()の呼び出し時に渡す\n",
    "        **kwards\n",
    "    ):\n",
    "        ## kwards を親クラスのインスタンスに渡す\n",
    "        ## PretrainedConfig クラスの変数をオーバーライド\n",
    "        super().__init__(**kwards)\n",
    "\n",
    "        ## モデルの独自変数に関してはここで、クラスのメンバ変数として渡す\n",
    "        self.input_size = input_size\n",
    "        self.hidden_size = hidden_size\n",
    "        self.output_size = output_size"
   ]
  },
  {
   "cell_type": "code",
   "execution_count": 3,
   "id": "c4b3408f-cf91-4518-92ac-4b5ca7b02c9e",
   "metadata": {},
   "outputs": [
    {
     "name": "stdout",
     "output_type": "stream",
     "text": [
      "Config {\n",
      "  \"hidden_size\": 3,\n",
      "  \"input_size\": 5,\n",
      "  \"output_size\": 1,\n",
      "  \"transformers_version\": \"4.38.2\"\n",
      "}\n",
      "\n"
     ]
    }
   ],
   "source": [
    "## デフォルト引数が定義されているため、\n",
    "## 何も引数がない場合でも宣言可能\n",
    "config = Config()\n",
    "print(config)"
   ]
  },
  {
   "cell_type": "code",
   "execution_count": 4,
   "id": "efc035f3-285c-4f1d-b39a-31c90de5075f",
   "metadata": {},
   "outputs": [
    {
     "name": "stdout",
     "output_type": "stream",
     "text": [
      "Config {\n",
      "  \"hidden_size\": 1000,\n",
      "  \"input_size\": 999,\n",
      "  \"output_size\": 999,\n",
      "  \"transformers_version\": \"4.38.2\"\n",
      "}\n",
      "\n"
     ]
    }
   ],
   "source": [
    "## 普通は、モデルの変数を指定するはず\n",
    "config = Config(\n",
    "    input_size=999,\n",
    "    hidden_size=1000,\n",
    "    output_size=999\n",
    ")\n",
    "print(config)"
   ]
  },
  {
   "cell_type": "code",
   "execution_count": 5,
   "id": "ecaf69bb-fc07-4134-8291-f13dd3593990",
   "metadata": {},
   "outputs": [
    {
     "name": "stdout",
     "output_type": "stream",
     "text": [
      "Config {\n",
      "  \"hidden_size\": 3,\n",
      "  \"input_size\": 5,\n",
      "  \"output_size\": 1,\n",
      "  \"transformers_version\": \"4.38.2\"\n",
      "}\n",
      "\n",
      "Config {\n",
      "  \"hidden_size\": 3,\n",
      "  \"input_size\": 5,\n",
      "  \"output_size\": 1,\n",
      "  \"transformers_version\": \"4.38.2\"\n",
      "}\n",
      "\n"
     ]
    }
   ],
   "source": [
    "## 保存と読み込み\n",
    "\n",
    "config = Config()\n",
    "outdir = os.path.join('storage', MODEL_NAME)\n",
    "config.save_pretrained(outdir)\n",
    "loaded_config = Config.from_pretrained(outdir)\n",
    "print(config)\n",
    "print(loaded_config)"
   ]
  },
  {
   "cell_type": "markdown",
   "id": "065e0e1b-1b1f-45a7-9349-e2ffcf38e5e5",
   "metadata": {},
   "source": [
    "#### Model の定義\n",
    "---\n",
    "* `PretrainedModel` を継承する形で定義\n",
    "* 以下注意点\n",
    "    * クラス変数として `config_class` に `Config` を定義すること(`from_pretrained()`でモデルを読み込む際に必ず必要になる）。\n",
    "    * `def __init__(self, config):` のように、初期化時に `Config` のインスタンスを渡すこと。\n",
    "    * `super().__init__(config)`のように、親クラスの初期化のためにも `Config` のインスタンスを渡すこと。"
   ]
  },
  {
   "cell_type": "code",
   "execution_count": 6,
   "id": "bc91922c-7cb8-46fa-8cb3-3a2cdc046554",
   "metadata": {},
   "outputs": [],
   "source": [
    "from transformers import PreTrainedModel\n",
    "import torch.nn as nn\n",
    "\n",
    "## 例として、単純な二層線形 NN\n",
    "class Model(PreTrainedModel):\n",
    "    config_class = Config\n",
    "    def __init__(self, config):\n",
    "        super().__init__(config)\n",
    "        self.config = config\n",
    "        self.linear1 = nn.Linear(\n",
    "            self.config.input_size,\n",
    "            self.config.hidden_size\n",
    "        )\n",
    "        self.linear2 = nn.Linear(\n",
    "            self.config.hidden_size,\n",
    "            self.config.output_size\n",
    "        )"
   ]
  },
  {
   "cell_type": "code",
   "execution_count": 7,
   "id": "79fd872d-8b15-4c7e-a215-1dc13d903333",
   "metadata": {},
   "outputs": [
    {
     "name": "stdout",
     "output_type": "stream",
     "text": [
      "Model(\n",
      "  (linear1): Linear(in_features=5, out_features=3, bias=True)\n",
      "  (linear2): Linear(in_features=3, out_features=1, bias=True)\n",
      ")\n"
     ]
    }
   ],
   "source": [
    "## こんな感じでで Model のインスタンスを作る\n",
    "config = Config()\n",
    "model  = Model(config)\n",
    "print(model)"
   ]
  },
  {
   "cell_type": "code",
   "execution_count": 8,
   "id": "1cd9ae06-bd3a-4da5-b44a-a39f72412cec",
   "metadata": {},
   "outputs": [
    {
     "name": "stdout",
     "output_type": "stream",
     "text": [
      "Model(\n",
      "  (linear1): Linear(in_features=999, out_features=1000, bias=True)\n",
      "  (linear2): Linear(in_features=1000, out_features=999, bias=True)\n",
      ")\n"
     ]
    }
   ],
   "source": [
    "## Config 通りにモデルができる。\n",
    "config = Config(\n",
    "    input_size=999,\n",
    "    hidden_size=1000,\n",
    "    output_size=999\n",
    ")\n",
    "model  = Model(config)\n",
    "print(model)"
   ]
  },
  {
   "cell_type": "code",
   "execution_count": 9,
   "id": "6e96c48a-a7db-4850-95c8-aae8b61318aa",
   "metadata": {},
   "outputs": [
    {
     "name": "stdout",
     "output_type": "stream",
     "text": [
      "Model(\n",
      "  (linear1): Linear(in_features=5, out_features=3, bias=True)\n",
      "  (linear2): Linear(in_features=3, out_features=1, bias=True)\n",
      ")\n",
      "Model(\n",
      "  (linear1): Linear(in_features=5, out_features=3, bias=True)\n",
      "  (linear2): Linear(in_features=3, out_features=1, bias=True)\n",
      ")\n"
     ]
    }
   ],
   "source": [
    "#### 保存と読み込み\n",
    "\n",
    "config = Config()\n",
    "model  = Model(config)\n",
    "outdir = os.path.join('storage', MODEL_NAME)\n",
    "model.save_pretrained(outdir)\n",
    "loaded_model = Model.from_pretrained(outdir)\n",
    "\n",
    "print(model)\n",
    "print(loaded_model)"
   ]
  },
  {
   "cell_type": "markdown",
   "id": "91679845-7ff1-41ce-bf08-bd3c98c1d4d8",
   "metadata": {},
   "source": [
    "#### モデルの学習ループ\n",
    "---\n",
    "* 以下が Hugging Face っぽい実装みたい\n",
    "    * `forward()` は、引数にラベルを渡すことができて，ラベルを渡された時にはlossまで計算して返すようにする\n",
    "    * 返り値のために専用の`Output` クラス（`dataclass`）を別に用意し，返り値はそれに入れて返す\n"
   ]
  },
  {
   "cell_type": "code",
   "execution_count": 10,
   "id": "a78786a0-9287-4a2a-9ce6-dc9b16d3fa8e",
   "metadata": {},
   "outputs": [],
   "source": [
    "from transformers import PreTrainedModel\n",
    "import torch\n",
    "import torch.nn as nn\n",
    "from dataclasses import dataclass\n",
    "# 返り値用のクラス\n",
    "@dataclass\n",
    "class ModelOutput:\n",
    "    loss: torch.Tensor = None\n",
    "    logits: torch.Tensor = None\n",
    "\n",
    "class Model(PreTrainedModel):\n",
    "    config_class = Config\n",
    "    def __init__(self, config):\n",
    "        super().__init__(config)\n",
    "        self.config = config\n",
    "        self.linear1 = nn.Linear(\n",
    "            self.config.input_size,\n",
    "            self.config.hidden_size\n",
    "        )\n",
    "        self.linear2 = nn.Linear(\n",
    "            self.config.hidden_size,\n",
    "            self.config.output_size\n",
    "        )\n",
    "\n",
    "    def forward(\n",
    "        self,\n",
    "        input,\n",
    "        labels=None\n",
    "    ):\n",
    "        logits = self.linear1(input)\n",
    "        logits = self.linear2(logits)\n",
    "        loss = None\n",
    "        if labels is not None: # labels=に何か与えられていたら損失計算\n",
    "            loss_fn = torch.nn.MSELoss()\n",
    "            loss = loss_fn(\n",
    "                logits,\n",
    "                labels\n",
    "            )\n",
    "        return ModelOutput(\n",
    "            loss=loss,\n",
    "            logits=logits\n",
    "        )"
   ]
  },
  {
   "cell_type": "code",
   "execution_count": 11,
   "id": "e278463a-6895-40e4-964b-f3222db60657",
   "metadata": {},
   "outputs": [
    {
     "name": "stdout",
     "output_type": "stream",
     "text": [
      "tensor(0.1837, grad_fn=<MseLossBackward0>)\n"
     ]
    }
   ],
   "source": [
    "config = Config()\n",
    "model = Model(config)\n",
    "inputs = torch.rand((5))  # 何かの入力\n",
    "labels = torch.tensor([0.5])  # 何かのラベル\n",
    "output = model(inputs, labels)\n",
    "print(output.loss)  # tensor(0.9413, grad_fn=<MseLossBackward0>)\n",
    "output.loss.backward()"
   ]
  },
  {
   "cell_type": "code",
   "execution_count": null,
   "id": "12e62dac-5277-4f3c-9d42-bf8267f0d2d8",
   "metadata": {},
   "outputs": [],
   "source": []
  }
 ],
 "metadata": {
  "kernelspec": {
   "display_name": "Python 3 (ipykernel)",
   "language": "python",
   "name": "python3"
  },
  "language_info": {
   "codemirror_mode": {
    "name": "ipython",
    "version": 3
   },
   "file_extension": ".py",
   "mimetype": "text/x-python",
   "name": "python",
   "nbconvert_exporter": "python",
   "pygments_lexer": "ipython3",
   "version": "3.11.6"
  }
 },
 "nbformat": 4,
 "nbformat_minor": 5
}
